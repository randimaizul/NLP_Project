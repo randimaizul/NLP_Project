{
 "cells": [
  {
   "cell_type": "code",
   "execution_count": 2,
   "metadata": {},
   "outputs": [
    {
     "name": "stdout",
     "output_type": "stream",
     "text": [
      "Populating the interactive namespace from numpy and matplotlib\n"
     ]
    }
   ],
   "source": [
    "%pylab inline\n",
    "import librosa \n",
    "import numpy as np\n",
    "from dtw import dtw\n",
    "import numpy as np\n",
    "from matplotlib import pyplot as plt"
   ]
  },
  {
   "cell_type": "code",
   "execution_count": 28,
   "metadata": {},
   "outputs": [],
   "source": [
    "# untuk mendapatkan rata-rata di setiap (13 ciri)  \n",
    "def get_average_mfccs(n):\n",
    "    array = []\n",
    "    for i in range(0,13):\n",
    "        array.append(np.average(mfccs[n][i]))\n",
    "    array.append(5) #class (ganti classnya sesuai jenis datanya)\n",
    "    \n",
    "    return(array)"
   ]
  },
  {
   "cell_type": "code",
   "execution_count": 29,
   "metadata": {},
   "outputs": [],
   "source": [
    "with open('dataset/semangka/wavToTag.txt') as f: #ganti source sesuai dengan data audionya\n",
    "    labels = array([l.replace('\\n', '') for l in f.readlines()])\n",
    "    \n",
    "mfccs = {}\n",
    "for i in range(len(labels)):\n",
    "    y, sr = librosa.load('dataset/semangka/{}.wav'.format(i)) #ganti source sesuai dengan data audionya\n",
    "    mfcc = librosa.feature.mfcc(y, sr, n_mfcc=13)\n",
    "    mfccs[i] = mfcc.T"
   ]
  },
  {
   "cell_type": "code",
   "execution_count": 30,
   "metadata": {},
   "outputs": [],
   "source": [
    "data = []\n",
    "for n in range(len(mfccs)):\n",
    "    a = get_average_mfccs(n)\n",
    "    data.append(a)"
   ]
  },
  {
   "cell_type": "code",
   "execution_count": 31,
   "metadata": {},
   "outputs": [],
   "source": [
    "np.savetxt(\"dataset_semangka.txt\", data, fmt=\"%.8f\", delimiter=\",\") #ganti nama file sesuai dengan data audionya"
   ]
  },
  {
   "cell_type": "code",
   "execution_count": null,
   "metadata": {},
   "outputs": [],
   "source": []
  }
 ],
 "metadata": {
  "kernelspec": {
   "display_name": "Python 3",
   "language": "python",
   "name": "python3"
  },
  "language_info": {
   "codemirror_mode": {
    "name": "ipython",
    "version": 3
   },
   "file_extension": ".py",
   "mimetype": "text/x-python",
   "name": "python",
   "nbconvert_exporter": "python",
   "pygments_lexer": "ipython3",
   "version": "3.6.4"
  }
 },
 "nbformat": 4,
 "nbformat_minor": 2
}
