{
 "cells": [
  {
   "cell_type": "code",
   "execution_count": 1,
   "metadata": {},
   "outputs": [
    {
     "name": "stderr",
     "output_type": "stream",
     "text": [
      "Using TensorFlow backend.\n"
     ]
    }
   ],
   "source": [
    "import numpy as np\n",
    "import librosa \n",
    "from dtw import dtw\n",
    "from keras.models import Sequential\n",
    "from keras.models import load_model\n",
    "from keras.layers import Dense\n",
    "from keras.utils import to_categorical\n",
    "import random\n",
    "import matplotlib.pyplot as plt\n",
    "import matplotlib.image as mpimg"
   ]
  },
  {
   "cell_type": "code",
   "execution_count": 2,
   "metadata": {
    "collapsed": true
   },
   "outputs": [],
   "source": [
    "# untuk mendapatkan rata-rata di setiap (13 ciri)  \n",
    "def get_average_mfccs():\n",
    "    array = []\n",
    "    for i in range(0,13):\n",
    "        array.append(np.average(mfccs[0][i]))\n",
    "    \n",
    "    return(array)"
   ]
  },
  {
   "cell_type": "code",
   "execution_count": 3,
   "metadata": {
    "collapsed": true
   },
   "outputs": [],
   "source": [
    "#create mfcc data yang akan diuji\n",
    "mfccs = {}\n",
    "y, sr = librosa.load('dataset/pir/39.wav') #ganti source sesuai dengan data audionya\n",
    "mfcc = librosa.feature.mfcc(y, sr, n_mfcc=13)\n",
    "mfccs[0] = mfcc.T\n",
    "    \n",
    "data = []\n",
    "a = get_average_mfccs()\n",
    "data.append(a)"
   ]
  },
  {
   "cell_type": "code",
   "execution_count": 9,
   "metadata": {},
   "outputs": [
    {
     "name": "stdout",
     "output_type": "stream",
     "text": [
      "[[[ 1.          1.          1.          0.        ]\n",
      "  [ 1.          1.          1.          0.        ]\n",
      "  [ 1.          1.          1.          0.        ]\n",
      "  ..., \n",
      "  [ 1.          1.          1.          0.        ]\n",
      "  [ 1.          1.          1.          0.        ]\n",
      "  [ 1.          1.          1.          0.        ]]\n",
      "\n",
      " [[ 1.          1.          1.          0.        ]\n",
      "  [ 1.          1.          1.          0.        ]\n",
      "  [ 1.          1.          1.          0.        ]\n",
      "  ..., \n",
      "  [ 1.          1.          1.          0.        ]\n",
      "  [ 1.          1.          1.          0.        ]\n",
      "  [ 1.          1.          1.          0.        ]]\n",
      "\n",
      " [[ 1.          1.          1.          0.        ]\n",
      "  [ 1.          1.          1.          0.        ]\n",
      "  [ 1.          1.          1.          0.        ]\n",
      "  ..., \n",
      "  [ 1.          1.          1.          0.        ]\n",
      "  [ 1.          1.          1.          0.        ]\n",
      "  [ 1.          1.          1.          0.        ]]\n",
      "\n",
      " ..., \n",
      " [[ 0.2         0.17254902  0.16862746  0.        ]\n",
      "  [ 0.2         0.17254902  0.16862746  0.        ]\n",
      "  [ 0.2         0.17254902  0.16862746  0.        ]\n",
      "  ..., \n",
      "  [ 1.          1.          1.          0.        ]\n",
      "  [ 1.          1.          1.          0.        ]\n",
      "  [ 1.          1.          1.          0.        ]]\n",
      "\n",
      " [[ 0.2         0.17254902  0.16862746  0.        ]\n",
      "  [ 0.2         0.17254902  0.16862746  0.        ]\n",
      "  [ 0.2         0.17254902  0.16862746  0.        ]\n",
      "  ..., \n",
      "  [ 1.          1.          1.          0.        ]\n",
      "  [ 1.          1.          1.          0.        ]\n",
      "  [ 1.          1.          1.          0.        ]]\n",
      "\n",
      " [[ 0.2         0.17254902  0.16862746  0.        ]\n",
      "  [ 0.2         0.17254902  0.16862746  0.        ]\n",
      "  [ 0.2         0.17254902  0.16862746  0.        ]\n",
      "  ..., \n",
      "  [ 1.          1.          1.          0.        ]\n",
      "  [ 1.          1.          1.          0.        ]\n",
      "  [ 1.          1.          1.          0.        ]]]\n"
     ]
    }
   ],
   "source": [
    "# prediction, menggunakan dataset manual, untuk testingnya ambbil salah satu data di dataset\n",
    "\n",
    "model = load_model('model.h5')\n",
    "fitur = np.array(data)\n",
    "perpus = ['mm.png','ipb.png','jabar.png','perpus.png','smanbul.png']\n",
    "index = random.choice([1, 2, 3,4,5]);\n",
    "img=mpimg.imread('img/'+perpus[index-1])\n",
    "kelas = [index]\n",
    "print(img)\n",
    "imgplot = plt.imshow(img)\n",
    "#kelas = [1]\n",
    "#classes = model.predict_classes(test)\n",
    "# probas = model.predict(fitur)\n",
    "# classes = probas.argmax(axis=-1)\n",
    "\n",
    "#print(label, alphabet.Alphabet.printAlphabet(classes[0]))\n",
    "# print(\"[PREDICT] Actual Class =\", kelas, \", Predict Class =\",classes)"
   ]
  },
  {
   "cell_type": "code",
   "execution_count": null,
   "metadata": {
    "collapsed": true
   },
   "outputs": [],
   "source": []
  }
 ],
 "metadata": {
  "kernelspec": {
   "display_name": "Python 3",
   "language": "python",
   "name": "python3"
  },
  "language_info": {
   "codemirror_mode": {
    "name": "ipython",
    "version": 2
   },
   "file_extension": ".py",
   "mimetype": "text/x-python",
   "name": "python",
   "nbconvert_exporter": "python",
   "pygments_lexer": "ipython2",
   "version": "2.7.14"
  }
 },
 "nbformat": 4,
 "nbformat_minor": 2
}
