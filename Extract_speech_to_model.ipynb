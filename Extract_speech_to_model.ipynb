{
 "cells": [
  {
   "cell_type": "code",
   "execution_count": 5,
   "metadata": {},
   "outputs": [
    {
     "name": "stderr",
     "output_type": "stream",
     "text": [
      "C:\\Users\\rmaiz\\Anaconda3\\lib\\site-packages\\h5py\\__init__.py:36: FutureWarning: Conversion of the second argument of issubdtype from `float` to `np.floating` is deprecated. In future, it will be treated as `np.float64 == np.dtype(float).type`.\n",
      "  from ._conv import register_converters as _register_converters\n",
      "Using TensorFlow backend.\n"
     ]
    }
   ],
   "source": [
    "import numpy as np\n",
    "import librosa \n",
    "from dtw import dtw\n",
    "from keras.models import Sequential\n",
    "from keras.models import load_model\n",
    "from keras.layers import Dense\n",
    "from keras.utils import to_categorical"
   ]
  },
  {
   "cell_type": "code",
   "execution_count": 29,
   "metadata": {},
   "outputs": [],
   "source": [
    "# untuk mendapatkan rata-rata di setiap (13 ciri)  \n",
    "def get_average_mfccs():\n",
    "    array = []\n",
    "    for i in range(0,13):\n",
    "        array.append(np.average(mfccs[0][i]))\n",
    "    \n",
    "    return(array)"
   ]
  },
  {
   "cell_type": "code",
   "execution_count": 67,
   "metadata": {},
   "outputs": [],
   "source": [
    "#create mfcc data yang akan diuji\n",
    "mfccs = {}\n",
    "y, sr = librosa.load('dataset/pir/39.wav') #ganti source sesuai dengan data audionya\n",
    "mfcc = librosa.feature.mfcc(y, sr, n_mfcc=13)\n",
    "mfccs[0] = mfcc.T\n",
    "    \n",
    "data = []\n",
    "a = get_average_mfccs()\n",
    "data.append(a)"
   ]
  },
  {
   "cell_type": "code",
   "execution_count": 68,
   "metadata": {},
   "outputs": [
    {
     "name": "stdout",
     "output_type": "stream",
     "text": [
      "[PREDICT] Actual Class = [1] , Predict Class = [4]\n"
     ]
    }
   ],
   "source": [
    "# prediction, menggunakan dataset manual, untuk testingnya ambbil salah satu data di dataset\n",
    "model = load_model('model.h5')\n",
    "fitur = np.array(data)\n",
    "kelas = [1]\n",
    "#classes = model.predict_classes(test)\n",
    "probas = model.predict(fitur)\n",
    "classes = probas.argmax(axis=-1)\n",
    "\n",
    "#print(label, alphabet.Alphabet.printAlphabet(classes[0]))\n",
    "print(\"[PREDICT] Actual Class =\", kelas, \", Predict Class =\",classes)"
   ]
  },
  {
   "cell_type": "code",
   "execution_count": null,
   "metadata": {},
   "outputs": [],
   "source": []
  }
 ],
 "metadata": {
  "kernelspec": {
   "display_name": "Python 3",
   "language": "python",
   "name": "python3"
  },
  "language_info": {
   "codemirror_mode": {
    "name": "ipython",
    "version": 3
   },
   "file_extension": ".py",
   "mimetype": "text/x-python",
   "name": "python",
   "nbconvert_exporter": "python",
   "pygments_lexer": "ipython3",
   "version": "3.6.4"
  }
 },
 "nbformat": 4,
 "nbformat_minor": 2
}
