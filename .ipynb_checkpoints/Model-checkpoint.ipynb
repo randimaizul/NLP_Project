{
 "cells": [
  {
   "cell_type": "code",
   "execution_count": 1,
   "metadata": {},
   "outputs": [
    {
     "name": "stderr",
     "output_type": "stream",
     "text": [
      "C:\\Users\\rmaiz\\Anaconda3\\lib\\site-packages\\h5py\\__init__.py:36: FutureWarning: Conversion of the second argument of issubdtype from `float` to `np.floating` is deprecated. In future, it will be treated as `np.float64 == np.dtype(float).type`.\n",
      "  from ._conv import register_converters as _register_converters\n",
      "Using TensorFlow backend.\n"
     ]
    }
   ],
   "source": [
    "import numpy as np\n",
    "from keras.models import Sequential\n",
    "from keras.layers import Dense\n",
    "\n",
    "# load pima indians dataset\n",
    "dataset = np.loadtxt(\"dataset_all.csv\", delimiter=\",\")\n",
    "# split into input (X) and output (Y) variables\n",
    "X = dataset[:,0:13]\n",
    "Y = dataset[:,13]"
   ]
  },
  {
   "cell_type": "code",
   "execution_count": 17,
   "metadata": {},
   "outputs": [],
   "source": [
    "# create model\n",
    "model = Sequential()\n",
    "model.add(Dense(12, input_dim=13, kernel_initializer='uniform', activation='relu'))\n",
    "model.add(Dense(13, kernel_initializer='uniform', activation='relu'))\n",
    "model.add(Dense(1, activation='softmax'))"
   ]
  },
  {
   "cell_type": "code",
   "execution_count": 18,
   "metadata": {},
   "outputs": [
    {
     "name": "stdout",
     "output_type": "stream",
     "text": [
      "Epoch 1/50\n",
      "50/50 [==============================] - 1s 11ms/step - loss: -31.8848 - acc: 0.2000\n",
      "Epoch 2/50\n",
      "50/50 [==============================] - 0s 250us/step - loss: -31.8848 - acc: 0.2000\n",
      "Epoch 3/50\n",
      "50/50 [==============================] - 0s 222us/step - loss: -31.8848 - acc: 0.2000\n",
      "Epoch 4/50\n",
      "50/50 [==============================] - 0s 303us/step - loss: -31.8848 - acc: 0.2000\n",
      "Epoch 5/50\n",
      "50/50 [==============================] - 0s 246us/step - loss: -31.8848 - acc: 0.2000\n",
      "Epoch 6/50\n",
      "50/50 [==============================] - 0s 272us/step - loss: -31.8848 - acc: 0.2000\n",
      "Epoch 7/50\n",
      "50/50 [==============================] - 0s 234us/step - loss: -31.8848 - acc: 0.2000\n",
      "Epoch 8/50\n",
      "50/50 [==============================] - 0s 320us/step - loss: -31.8848 - acc: 0.2000\n",
      "Epoch 9/50\n",
      "50/50 [==============================] - 0s 171us/step - loss: -31.8848 - acc: 0.2000\n",
      "Epoch 10/50\n",
      "50/50 [==============================] - 0s 286us/step - loss: -31.8848 - acc: 0.2000\n",
      "Epoch 11/50\n",
      "50/50 [==============================] - 0s 203us/step - loss: -31.8848 - acc: 0.2000\n",
      "Epoch 12/50\n",
      "50/50 [==============================] - 0s 349us/step - loss: -31.8848 - acc: 0.2000\n",
      "Epoch 13/50\n",
      "50/50 [==============================] - 0s 264us/step - loss: -31.8848 - acc: 0.2000\n",
      "Epoch 14/50\n",
      "50/50 [==============================] - 0s 264us/step - loss: -31.8848 - acc: 0.2000\n",
      "Epoch 15/50\n",
      "50/50 [==============================] - 0s 280us/step - loss: -31.8848 - acc: 0.2000\n",
      "Epoch 16/50\n",
      "50/50 [==============================] - 0s 309us/step - loss: -31.8848 - acc: 0.2000\n",
      "Epoch 17/50\n",
      "50/50 [==============================] - 0s 248us/step - loss: -31.8848 - acc: 0.2000\n",
      "Epoch 18/50\n",
      "50/50 [==============================] - 0s 242us/step - loss: -31.8848 - acc: 0.2000\n",
      "Epoch 19/50\n",
      "50/50 [==============================] - 0s 247us/step - loss: -31.8848 - acc: 0.2000\n",
      "Epoch 20/50\n",
      "50/50 [==============================] - 0s 205us/step - loss: -31.8848 - acc: 0.2000\n",
      "Epoch 21/50\n",
      "50/50 [==============================] - 0s 250us/step - loss: -31.8848 - acc: 0.2000\n",
      "Epoch 22/50\n",
      "50/50 [==============================] - 0s 224us/step - loss: -31.8848 - acc: 0.2000\n",
      "Epoch 23/50\n",
      "50/50 [==============================] - 0s 257us/step - loss: -31.8848 - acc: 0.2000\n",
      "Epoch 24/50\n",
      "50/50 [==============================] - 0s 313us/step - loss: -31.8848 - acc: 0.2000\n",
      "Epoch 25/50\n",
      "50/50 [==============================] - 0s 195us/step - loss: -31.8848 - acc: 0.2000\n",
      "Epoch 26/50\n",
      "50/50 [==============================] - 0s 309us/step - loss: -31.8848 - acc: 0.2000\n",
      "Epoch 27/50\n",
      "50/50 [==============================] - 0s 272us/step - loss: -31.8848 - acc: 0.2000\n",
      "Epoch 28/50\n",
      "50/50 [==============================] - 0s 315us/step - loss: -31.8848 - acc: 0.2000\n",
      "Epoch 29/50\n",
      "50/50 [==============================] - 0s 227us/step - loss: -31.8848 - acc: 0.2000\n",
      "Epoch 30/50\n",
      "50/50 [==============================] - 0s 247us/step - loss: -31.8848 - acc: 0.2000\n",
      "Epoch 31/50\n",
      "50/50 [==============================] - 0s 278us/step - loss: -31.8848 - acc: 0.2000\n",
      "Epoch 32/50\n",
      "50/50 [==============================] - 0s 209us/step - loss: -31.8848 - acc: 0.2000\n",
      "Epoch 33/50\n",
      "50/50 [==============================] - 0s 272us/step - loss: -31.8848 - acc: 0.2000\n",
      "Epoch 34/50\n",
      "50/50 [==============================] - 0s 264us/step - loss: -31.8848 - acc: 0.2000\n",
      "Epoch 35/50\n",
      "50/50 [==============================] - 0s 204us/step - loss: -31.8848 - acc: 0.2000\n",
      "Epoch 36/50\n",
      "50/50 [==============================] - 0s 336us/step - loss: -31.8848 - acc: 0.2000\n",
      "Epoch 37/50\n",
      "50/50 [==============================] - 0s 192us/step - loss: -31.8848 - acc: 0.2000\n",
      "Epoch 38/50\n",
      "50/50 [==============================] - 0s 212us/step - loss: -31.8848 - acc: 0.2000\n",
      "Epoch 39/50\n",
      "50/50 [==============================] - 0s 303us/step - loss: -31.8848 - acc: 0.2000\n",
      "Epoch 40/50\n",
      "50/50 [==============================] - 0s 176us/step - loss: -31.8848 - acc: 0.2000\n",
      "Epoch 41/50\n",
      "50/50 [==============================] - 0s 193us/step - loss: -31.8848 - acc: 0.2000\n",
      "Epoch 42/50\n",
      "50/50 [==============================] - 0s 173us/step - loss: -31.8848 - acc: 0.2000\n",
      "Epoch 43/50\n",
      "50/50 [==============================] - 0s 242us/step - loss: -31.8848 - acc: 0.2000\n",
      "Epoch 44/50\n",
      "50/50 [==============================] - 0s 285us/step - loss: -31.8848 - acc: 0.2000\n",
      "Epoch 45/50\n",
      "50/50 [==============================] - 0s 358us/step - loss: -31.8848 - acc: 0.2000\n",
      "Epoch 46/50\n",
      "50/50 [==============================] - 0s 185us/step - loss: -31.8848 - acc: 0.2000\n",
      "Epoch 47/50\n",
      "50/50 [==============================] - 0s 280us/step - loss: -31.8848 - acc: 0.2000\n",
      "Epoch 48/50\n",
      "50/50 [==============================] - 0s 149us/step - loss: -31.8848 - acc: 0.2000\n",
      "Epoch 49/50\n",
      "50/50 [==============================] - 0s 208us/step - loss: -31.8848 - acc: 0.2000\n",
      "Epoch 50/50\n",
      "50/50 [==============================] - 0s 330us/step - loss: -31.8848 - acc: 0.2000\n"
     ]
    },
    {
     "data": {
      "text/plain": [
       "<keras.callbacks.History at 0x1672350ee48>"
      ]
     },
     "execution_count": 18,
     "metadata": {},
     "output_type": "execute_result"
    }
   ],
   "source": [
    "# Compile model\n",
    "model.compile(loss='binary_crossentropy', optimizer='adam', metrics=['accuracy'])\n",
    "# Fit the model\n",
    "model.fit(X, Y, epochs=50, batch_size=15)"
   ]
  },
  {
   "cell_type": "code",
   "execution_count": 19,
   "metadata": {},
   "outputs": [
    {
     "name": "stdout",
     "output_type": "stream",
     "text": [
      "50/50 [==============================] - 0s 2ms/step\n",
      "\n",
      "acc: 20.00%\n"
     ]
    }
   ],
   "source": [
    "# evaluate the model\n",
    "scores = model.evaluate(X, Y)\n",
    "print(\"\\n%s: %.2f%%\" % (model.metrics_names[1], scores[1]*100))"
   ]
  },
  {
   "cell_type": "code",
   "execution_count": 20,
   "metadata": {},
   "outputs": [],
   "source": [
    "# save model\n",
    "model.save('model.h5')"
   ]
  },
  {
   "cell_type": "code",
   "execution_count": null,
   "metadata": {},
   "outputs": [],
   "source": []
  }
 ],
 "metadata": {
  "kernelspec": {
   "display_name": "Python 3",
   "language": "python",
   "name": "python3"
  },
  "language_info": {
   "codemirror_mode": {
    "name": "ipython",
    "version": 3
   },
   "file_extension": ".py",
   "mimetype": "text/x-python",
   "name": "python",
   "nbconvert_exporter": "python",
   "pygments_lexer": "ipython3",
   "version": "3.6.4"
  }
 },
 "nbformat": 4,
 "nbformat_minor": 2
}
